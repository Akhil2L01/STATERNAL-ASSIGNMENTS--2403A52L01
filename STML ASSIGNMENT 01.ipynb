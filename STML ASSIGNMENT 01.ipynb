{
  "cells": [
    {
      "cell_type": "code",
      "execution_count": null,
      "metadata": {
        "colab": {
          "base_uri": "https://localhost:8080/",
          "height": 563
        },
        "id": "moZytcoJnO7e",
        "outputId": "964593ba-5063-4cbe-e613-a2b53b7ec745"
      },
      "outputs": [
        {
          "name": "stdout",
          "output_type": "stream",
          "text": [
            "Bin 1: Density = 0.2000\n",
            "Bin 2: Density = 0.3000\n",
            "Bin 3: Density = 0.2000\n",
            "Bin 4: Density = 0.2000\n",
            "Bin 5: Density = 0.1000\n"
          ]
        },
        {
          "data": {
            "image/png": "[encoded data removed]",
            "text/plain": [
              "<Figure size 640x480 with 1 Axes>"
            ]
          },
          "metadata": {},
          "output_type": "display_data"
        }
      ],
      "source": [
        "import numpy as np\n",
        "import matplotlib.pyplot as plt\n",
        "X = [2.3, 2.5, 3.6, 2.8, 3.1, 2.9, 3.2, 2.7, 2.8, 3.0]\n",
        "num_bins = 5\n",
        "counts, bin_edges = np.histogram(X, bins=num_bins, density=True)\n",
        "bin_width = bin_edges[1] - bin_edges[0]\n",
        "densities = counts * bin_width\n",
        "for i, density in enumerate(densities):\n",
        "    print(f'Bin {i+1}: Density = {density:.4f}')\n",
        "plt.hist(X, bins=num_bins, density=True, alpha=0.6, color='g', edgecolor='black')\n",
        "plt.xlabel('Value')\n",
        "plt.ylabel('Density')\n",
        "plt.title('Histogram with Density')\n",
        "plt.show()\n"
      ]
    },
    {
      "cell_type": "code",
      "execution_count": null,
      "metadata": {
        "colab": {
          "base_uri": "https://localhost:8080/"
        },
        "id": "fbDWxNPvyAnN",
        "outputId": "9db721b5-6d63-490b-b3d3-4e193cede5ec"
      },
      "outputs": [
        {
          "name": "stdout",
          "output_type": "stream",
          "text": [
            "Statistics for X:\n",
            "                                  X\n",
            "Mean                       5.125000\n",
            "Median                     5.000000\n",
            "Mode                       5.000000\n",
            "Variance                   4.696429\n",
            "Standard Deviation         2.167124\n",
            "Range                      6.000000\n",
            "Interquartile Range (IQR)  2.750000\n",
            "Skewness                   0.099879\n",
            "Kurtosis                  -1.115500\n",
            "\n",
            "Statistics for Y:\n",
            "                                  Y\n",
            "Mean                       4.833333\n",
            "Median                     4.500000\n",
            "Mode                       2.000000\n",
            "Variance                   5.366667\n",
            "Standard Deviation         2.316607\n",
            "Range                      6.000000\n",
            "Interquartile Range (IQR)  3.250000\n",
            "Skewness                   0.219300\n",
            "Kurtosis                  -1.343235\n"
          ]
        }
      ],
      "source": [
        "import numpy as np\n",
        "import scipy.stats as stats\n",
        "import pandas as pd\n",
        "X = [4, 5, 5, 6, 8, 3, 2, 8]\n",
        "Y = [4, 3, 2, 7, 5, 8]\n",
        "def compute_statistics(data):\n",
        "    mean = np.mean(data)\n",
        "    median = np.median(data)\n",
        "    mode = stats.mode(data, keepdims=True)[0][0]\n",
        "    variance = np.var(data, ddof=1)\n",
        "    std_dev = np.std(data, ddof=1)\n",
        "    data_range = np.ptp(data)\n",
        "    iqr = stats.iqr(data)\n",
        "    skewness = stats.skew(data)\n",
        "    kurtosis = stats.kurtosis(data)\n",
        "    return {\n",
        "        'Mean': mean,\n",
        "        'Median': median,\n",
        "        'Mode': mode,\n",
        "        'Variance': variance,\n",
        "        'Standard Deviation': std_dev,\n",
        "        'Range': data_range,\n",
        "        'Interquartile Range (IQR)': iqr,\n",
        "        'Skewness': skewness,\n",
        "        'Kurtosis': kurtosis\n",
        "    }\n",
        "stats_X = compute_statistics(X)\n",
        "stats_Y = compute_statistics(Y)\n",
        "df_X = pd.DataFrame(stats_X, index=['X'])\n",
        "df_Y = pd.DataFrame(stats_Y, index=['Y'])\n",
        "print(\"Statistics for X:\")\n",
        "print(df_X.T)\n",
        "print(\"\\nStatistics for Y:\")\n",
        "print(df_Y.T)\n"
      ]
    },
    {
      "cell_type": "code",
      "execution_count": null,
      "metadata": {
        "colab": {
          "base_uri": "https://localhost:8080/"
        },
        "id": "GU0qbS5VyMSD",
        "outputId": "5cc1d1f8-5f52-4d45-a343-e8fb8c056e5d"
      },
      "outputs": [
        {
          "name": "stdout",
          "output_type": "stream",
          "text": [
            "Statistics for X:\n",
            "                                  X\n",
            "Mean                       5.125000\n",
            "Median                     5.000000\n",
            "Mode                       5.000000\n",
            "Variance                   4.696429\n",
            "Standard Deviation         2.167124\n",
            "Range                      6.000000\n",
            "Interquartile Range (IQR)  2.750000\n",
            "Skewness                   0.099879\n",
            "Kurtosis                  -1.115500\n",
            "\n",
            "Statistics for Y:\n",
            "                                  Y\n",
            "Mean                       4.833333\n",
            "Median                     4.500000\n",
            "Mode                       2.000000\n",
            "Variance                   5.366667\n",
            "Standard Deviation         2.316607\n",
            "Range                      6.000000\n",
            "Interquartile Range (IQR)  3.250000\n",
            "Skewness                   0.219300\n",
            "Kurtosis                  -1.343235\n"
          ]
        }
      ],
      "source": [
        "import numpy as np\n",
        "import scipy.stats as stats\n",
        "import pandas as pandas\n",
        "X = [4, 5, 5, 6, 8, 3, 2, 8]\n",
        "Y = [4, 3, 2, 7, 5, 8]\n",
        "def compute_statistics(data):\n",
        "    mean = np.mean(data)\n",
        "    median = np.median(data)\n",
        "    mode = stats.mode(data, keepdims=True)[0][0]\n",
        "    variance = np.var(data, ddof=1)\n",
        "    std_dev = np.std(data, ddof=1)\n",
        "    data_range = np.ptp(data)\n",
        "    iqr = stats.iqr(data)\n",
        "    skewness = stats.skew(data)\n",
        "    kurtosis = stats.kurtosis(data)\n",
        "    return {\n",
        "        'Mean': mean,\n",
        "        'Median': median,\n",
        "        'Mode': mode,\n",
        "        'Variance': variance,\n",
        "        'Standard Deviation': std_dev,\n",
        "        'Range': data_range,\n",
        "        'Interquartile Range (IQR)': iqr,\n",
        "        'Skewness': skewness,\n",
        "        'Kurtosis': kurtosis\n",
        "    }\n",
        "stats_X = compute_statistics(X)\n",
        "stats_Y = compute_statistics(Y)\n",
        "df_X = pd.DataFrame(stats_X, index=['X'])\n",
        "df_Y = pd.DataFrame(stats_Y, index=['Y'])\n",
        "print(\"Statistics for X:\")\n",
        "print(df_X.T)\n",
        "print(\"\\nStatistics for Y:\")\n",
        "print(df_Y.T)\n"
      ]
    }
  ],
  "metadata": {
    "colab": {
      "provenance": []
    },
    "kernelspec": {
      "display_name": "Python 3",
      "name": "python3"
    },
    "language_info": {
      "name": "python"
    }
  },
  "nbformat": 4,
  "nbformat_minor": 0
}
